{
 "cells": [
  {
   "cell_type": "markdown",
   "id": "comparable-development",
   "metadata": {},
   "source": [
    "# 1. Markdown cells\n",
    "\n",
    "* Hi! Its Main Academy?\n",
    "* All HTML tabs are supported!\n",
    "* Моя сторінка на лінкедін [Лінкедін](https://www.linkedin.com)  \n",
    "\n",
    "<br>\n",
    "<br>\n",
    "\n",
    "\n",
    "# This is heading 1\n",
    "\n",
    "## This is heading 2\n",
    "\n",
    "some gray coloured text:\n",
    "\n",
    "> this is where we can bring quotes and present them nicely\n",
    "\n",
    "And this is the paragraph about something very important. Even math:\n",
    "\\begin{equation}\n",
    "y_{sub} = \\sqrt(x_{sub})\n",
    "\\end{equation}\n",
    "\n",
    "Or python code example:\n",
    "\n",
    "```\n",
    "import math\n",
    "def foo():\n",
    "  return \"foo\"\n",
    "```\n",
    "\n",
    "Here is the sample mean:\n",
    "\n",
    "### \\begin{equation} y= \\frac{1}{n} \\sum_{i=1}^n y_i \\end{equation}\n",
    "\n",
    "Here is the sample variance:\n",
    "\n",
    "### \\begin{equation} σ^2= \\frac{\\frac{1}{n} \\displaystyle \\sum_{i=1}^n (y_i - \\bar{y})^2}{n-1}  \\end{equation}\n",
    "\n",
    "Here is the sample standard deviation:\n",
    "\n",
    "### \\begin{equation} σ= \\sqrt \\frac{\\frac{1}{n} \\displaystyle \\sum_{i=1}^n (y_i - \\bar{y})^2}{n-1}  \\end{equation}\n"
   ]
  },
  {
   "cell_type": "code",
   "execution_count": null,
   "id": "emerging-bacon",
   "metadata": {},
   "outputs": [],
   "source": []
  },
  {
   "cell_type": "code",
   "execution_count": null,
   "id": "tough-burning",
   "metadata": {},
   "outputs": [],
   "source": []
  }
 ],
 "metadata": {
  "kernelspec": {
   "display_name": "Python 3",
   "language": "python",
   "name": "python3"
  },
  "language_info": {
   "codemirror_mode": {
    "name": "ipython",
    "version": 3
   },
   "file_extension": ".py",
   "mimetype": "text/x-python",
   "name": "python",
   "nbconvert_exporter": "python",
   "pygments_lexer": "ipython3",
   "version": "3.8.8"
  }
 },
 "nbformat": 4,
 "nbformat_minor": 5
}
